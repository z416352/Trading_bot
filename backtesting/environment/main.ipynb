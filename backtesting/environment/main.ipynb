{
 "cells": [
  {
   "cell_type": "code",
   "execution_count": 1,
   "metadata": {},
   "outputs": [],
   "source": [
    "import sys\n",
    "import os\n",
    "import datetime as dt\n",
    "import math\n",
    "import matplotlib as plt\n",
    "\n",
    "sys.path.append(\"D:\\Desktop\\Github\\Trading_bot\")\n",
    "from Crawler.functions import *"
   ]
  },
  {
   "cell_type": "code",
   "execution_count": 20,
   "metadata": {},
   "outputs": [],
   "source": [
    "# # 做多: 當(今天短週期均線 > 今天長週期均線) 且 (昨天短週期均線 < 昨天長週期均線)\n",
    "# # 做空: 當(今天短週期均線 < 今天長週期均線) 且 (昨天短週期均線 > 昨天長週期均線)\n",
    "# signal_long = (sma1 > sma2) & (sma1.shift() < sma2.shift())\n",
    "# signal_short = (sma1 < sma2) & (sma1.shift() > sma2.shift())\n",
    "\n",
    "# signal_long.astype(int).plot()\n",
    "# (-signal_short.astype(int)).plot()\n",
    "\n",
    "# # combine long and short signal\n",
    "# signal = signal_long.copy()\n",
    "# signal[signal_short] = -1"
   ]
  },
  {
   "cell_type": "code",
   "execution_count": 2,
   "metadata": {},
   "outputs": [],
   "source": [
    "from backtesting import Backtest\n",
    "from backtesting.lib import SignalStrategy\n",
    "import pandas as pd"
   ]
  },
  {
   "cell_type": "code",
   "execution_count": 3,
   "metadata": {},
   "outputs": [
    {
     "name": "stdout",
     "output_type": "stream",
     "text": [
      "                         Open      High       Low     Close        Volume\n",
      "Timestamp                                                                \n",
      "2017-08-17 12:00:00   4261.48   4313.62   4261.32   4308.83     47.181009\n",
      "2017-08-17 13:00:00   4308.83   4328.69   4291.37   4315.32     23.234916\n",
      "2017-08-17 14:00:00   4330.29   4345.45   4309.37   4324.35      7.229691\n",
      "2017-08-17 15:00:00   4316.62   4349.99   4287.41   4349.99      4.443249\n",
      "2017-08-17 16:00:00   4333.32   4377.85   4333.32   4360.69      0.972807\n",
      "...                       ...       ...       ...       ...           ...\n",
      "2022-10-13 19:00:00  18689.44  18831.07  18658.35  18753.20  13934.924310\n",
      "2022-10-13 20:00:00  18754.09  18777.72  18742.25  18756.26    919.259730\n",
      "2022-10-13 21:00:00  18385.30  18479.96  18273.00  18438.18  27029.805740\n",
      "2022-10-13 22:00:00  18430.95  18436.38  18400.00  18432.69   1868.793230\n",
      "2022-10-13 23:00:00  18415.65  18832.60  18403.65  18751.54  14220.897600\n",
      "\n",
      "[45077 rows x 5 columns]\n"
     ]
    }
   ],
   "source": [
    "coin_txt = open(\"../../Crawler/coin.txt\",\"r\",encoding = 'utf8')\n",
    "coin = coin_txt.read()\n",
    "coin_txt.close()\n",
    "\n",
    "DB = DB_table(db_name = \"../../Crawler/test.db\", coin_name = coin)\n",
    "DB.init_db()\n",
    "\n",
    "df = DB.get_all()\n",
    "df.set_index('Timestamp', inplace=True)\n",
    "\n",
    "re_df = df[\"2021-09-13 23:00:00\":]\n",
    "print(re_df)"
   ]
  },
  {
   "cell_type": "code",
   "execution_count": 10,
   "metadata": {},
   "outputs": [],
   "source": [
    "class Strategy(SignalStrategy):\n",
    "    def init(self):\n",
    "        super().init()\n",
    "        \n",
    "        # Precompute the two moving averages\n",
    "        close = pd.Series(self.data.Close)\n",
    "        sma1 = close.rolling(20).mean()\n",
    "        sma2 = close.rolling(60).mean()\n",
    "        \n",
    "        # Precompute signal\n",
    "        signal_long = (sma1 > sma2) & (sma1.shift() < sma2.shift())\n",
    "        signal_short = (sma1 < sma2) & (sma1.shift() > sma2.shift())\n",
    "        \n",
    "        signal = signal_long\n",
    "        signal[signal_short] = -1\n",
    "        \n",
    "        self.set_signal(signal)\n",
    "        \n",
    "        \n",
    "    def next(self):\n",
    "        super().next()"
   ]
  },
  {
   "cell_type": "code",
   "execution_count": 19,
   "metadata": {},
   "outputs": [
    {
     "data": {
      "text/html": [
       "<div style=\"display: table;\"><div style=\"display: table-row;\"><div style=\"display: table-cell;\"><b title=\"bokeh.models.layouts.Row\">Row</b>(</div><div style=\"display: table-cell;\">id&nbsp;=&nbsp;'5149', <span id=\"5880\" style=\"cursor: pointer;\">&hellip;)</span></div></div><div class=\"5879\" style=\"display: none;\"><div style=\"display: table-cell;\"></div><div style=\"display: table-cell;\">align&nbsp;=&nbsp;'start',</div></div><div class=\"5879\" style=\"display: none;\"><div style=\"display: table-cell;\"></div><div style=\"display: table-cell;\">aspect_ratio&nbsp;=&nbsp;None,</div></div><div class=\"5879\" style=\"display: none;\"><div style=\"display: table-cell;\"></div><div style=\"display: table-cell;\">background&nbsp;=&nbsp;None,</div></div><div class=\"5879\" style=\"display: none;\"><div style=\"display: table-cell;\"></div><div style=\"display: table-cell;\">children&nbsp;=&nbsp;[GridBox(id='5146', ...), ToolbarBox(id='5148', ...)],</div></div><div class=\"5879\" style=\"display: none;\"><div style=\"display: table-cell;\"></div><div style=\"display: table-cell;\">cols&nbsp;=&nbsp;'auto',</div></div><div class=\"5879\" style=\"display: none;\"><div style=\"display: table-cell;\"></div><div style=\"display: table-cell;\">css_classes&nbsp;=&nbsp;[],</div></div><div class=\"5879\" style=\"display: none;\"><div style=\"display: table-cell;\"></div><div style=\"display: table-cell;\">disabled&nbsp;=&nbsp;False,</div></div><div class=\"5879\" style=\"display: none;\"><div style=\"display: table-cell;\"></div><div style=\"display: table-cell;\">height&nbsp;=&nbsp;None,</div></div><div class=\"5879\" style=\"display: none;\"><div style=\"display: table-cell;\"></div><div style=\"display: table-cell;\">height_policy&nbsp;=&nbsp;'auto',</div></div><div class=\"5879\" style=\"display: none;\"><div style=\"display: table-cell;\"></div><div style=\"display: table-cell;\">js_event_callbacks&nbsp;=&nbsp;{},</div></div><div class=\"5879\" style=\"display: none;\"><div style=\"display: table-cell;\"></div><div style=\"display: table-cell;\">js_property_callbacks&nbsp;=&nbsp;{},</div></div><div class=\"5879\" style=\"display: none;\"><div style=\"display: table-cell;\"></div><div style=\"display: table-cell;\">margin&nbsp;=&nbsp;(0, 0, 0, 0),</div></div><div class=\"5879\" style=\"display: none;\"><div style=\"display: table-cell;\"></div><div style=\"display: table-cell;\">max_height&nbsp;=&nbsp;None,</div></div><div class=\"5879\" style=\"display: none;\"><div style=\"display: table-cell;\"></div><div style=\"display: table-cell;\">max_width&nbsp;=&nbsp;None,</div></div><div class=\"5879\" style=\"display: none;\"><div style=\"display: table-cell;\"></div><div style=\"display: table-cell;\">min_height&nbsp;=&nbsp;None,</div></div><div class=\"5879\" style=\"display: none;\"><div style=\"display: table-cell;\"></div><div style=\"display: table-cell;\">min_width&nbsp;=&nbsp;None,</div></div><div class=\"5879\" style=\"display: none;\"><div style=\"display: table-cell;\"></div><div style=\"display: table-cell;\">name&nbsp;=&nbsp;None,</div></div><div class=\"5879\" style=\"display: none;\"><div style=\"display: table-cell;\"></div><div style=\"display: table-cell;\">sizing_mode&nbsp;=&nbsp;'stretch_width',</div></div><div class=\"5879\" style=\"display: none;\"><div style=\"display: table-cell;\"></div><div style=\"display: table-cell;\">spacing&nbsp;=&nbsp;0,</div></div><div class=\"5879\" style=\"display: none;\"><div style=\"display: table-cell;\"></div><div style=\"display: table-cell;\">subscribed_events&nbsp;=&nbsp;[],</div></div><div class=\"5879\" style=\"display: none;\"><div style=\"display: table-cell;\"></div><div style=\"display: table-cell;\">syncable&nbsp;=&nbsp;True,</div></div><div class=\"5879\" style=\"display: none;\"><div style=\"display: table-cell;\"></div><div style=\"display: table-cell;\">tags&nbsp;=&nbsp;[],</div></div><div class=\"5879\" style=\"display: none;\"><div style=\"display: table-cell;\"></div><div style=\"display: table-cell;\">visible&nbsp;=&nbsp;True,</div></div><div class=\"5879\" style=\"display: none;\"><div style=\"display: table-cell;\"></div><div style=\"display: table-cell;\">width&nbsp;=&nbsp;None,</div></div><div class=\"5879\" style=\"display: none;\"><div style=\"display: table-cell;\"></div><div style=\"display: table-cell;\">width_policy&nbsp;=&nbsp;'auto')</div></div></div>\n",
       "<script>\n",
       "(function() {\n",
       "  let expanded = false;\n",
       "  const ellipsis = document.getElementById(\"5880\");\n",
       "  ellipsis.addEventListener(\"click\", function() {\n",
       "    const rows = document.getElementsByClassName(\"5879\");\n",
       "    for (let i = 0; i < rows.length; i++) {\n",
       "      const el = rows[i];\n",
       "      el.style.display = expanded ? \"none\" : \"table-row\";\n",
       "    }\n",
       "    ellipsis.innerHTML = expanded ? \"&hellip;)\" : \"&lsaquo;&lsaquo;&lsaquo;\";\n",
       "    expanded = !expanded;\n",
       "  });\n",
       "})();\n",
       "</script>\n"
      ],
      "text/plain": [
       "Row(id='5149', ...)"
      ]
     },
     "execution_count": 19,
     "metadata": {},
     "output_type": "execute_result"
    }
   ],
   "source": [
    "bt = Backtest(re_df, Strategy, cash=1000000)\n",
    "bt.run()\n",
    "bt.plot()"
   ]
  },
  {
   "cell_type": "code",
   "execution_count": null,
   "metadata": {},
   "outputs": [],
   "source": []
  }
 ],
 "metadata": {
  "kernelspec": {
   "display_name": "Python 3.8.10 ('env01': venv)",
   "language": "python",
   "name": "python3"
  },
  "language_info": {
   "codemirror_mode": {
    "name": "ipython",
    "version": 3
   },
   "file_extension": ".py",
   "mimetype": "text/x-python",
   "name": "python",
   "nbconvert_exporter": "python",
   "pygments_lexer": "ipython3",
   "version": "3.8.10"
  },
  "orig_nbformat": 4,
  "vscode": {
   "interpreter": {
    "hash": "c2a015db88ba82aa96b55ead86112bbf6450e4bb3c86f319b19adb7c0e98ab70"
   }
  }
 },
 "nbformat": 4,
 "nbformat_minor": 2
}
