{
 "cells": [
  {
   "cell_type": "code",
   "execution_count": 1,
   "metadata": {},
   "outputs": [
    {
     "name": "stderr",
     "output_type": "stream",
     "text": [
      "d:\\Desktop\\Github\\Trading_bot\\env\\env01\\lib\\site-packages\\swagger_spec_validator\\validator20.py:49: SwaggerValidationWarning: Found \"$ref: #/definitions/UserPreferences\" with siblings that will be overwritten. See https://stackoverflow.com/a/48114924 for more information. (path #/definitions/User/properties/preferences)\n",
      "  warnings.warn(\n",
      "d:\\Desktop\\Github\\Trading_bot\\env\\env01\\lib\\site-packages\\tqdm\\auto.py:22: TqdmWarning: IProgress not found. Please update jupyter and ipywidgets. See https://ipywidgets.readthedocs.io/en/stable/user_install.html\n",
      "  from .autonotebook import tqdm as notebook_tqdm\n"
     ]
    }
   ],
   "source": [
    "from functions import *\n",
    "import pandas as pd\n",
    "\n",
    "# get from https://www.finlab.tw/btc-crawler-py/\n",
    "from crypto_backtrader.finlab import crypto"
   ]
  },
  {
   "cell_type": "code",
   "execution_count": 2,
   "metadata": {},
   "outputs": [],
   "source": [
    "# print(type(get_candle_data(start=datetime(2022, 11, 1, 23, 55, 59))))\n"
   ]
  },
  {
   "cell_type": "code",
   "execution_count": 3,
   "metadata": {},
   "outputs": [
    {
     "name": "stdout",
     "output_type": "stream",
     "text": [
      "----> update() 處理中....\n",
      "     last_date = 2022-11-04 16:00:00\n",
      "     start from:  2022-11-04 16:00:03\n",
      "     end from:  2022-11-06 02:18:39.366558\n",
      "Downloading 2058 minutes of new data available for BTCUSDT, i.e. 5 instances of 8h data.\n",
      "All caught up..!\n",
      "----> update() 新增完成 !\n"
     ]
    }
   ],
   "source": [
    "# coin_txt 放入要存入的幣別\n",
    "coin_txt = open(\"../DATA/coin.txt\",\"r\",encoding = 'utf8')\n",
    "coin = coin_txt.read()\n",
    "coin_txt.close()\n",
    "\n",
    "DB = DB_table(db_file_path=\"../DATA/test.db\", coin_name=coin)\n",
    "\n",
    "DB.init_db()\n",
    "DB.create()\n",
    "DB.update(Interval='8h')\n",
    "\n",
    "# DB.show()"
   ]
  },
  {
   "cell_type": "code",
   "execution_count": 4,
   "metadata": {},
   "outputs": [
    {
     "name": "stdout",
     "output_type": "stream",
     "text": [
      "2017-01-01 00:00:00\n"
     ]
    }
   ],
   "source": [
    "print(datetime.strptime('1 Jan 2017', '%d %b %Y'))"
   ]
  },
  {
   "cell_type": "code",
   "execution_count": null,
   "metadata": {},
   "outputs": [],
   "source": []
  }
 ],
 "metadata": {
  "kernelspec": {
   "display_name": "Python 3.8.10 ('env01': venv)",
   "language": "python",
   "name": "python3"
  },
  "language_info": {
   "codemirror_mode": {
    "name": "ipython",
    "version": 3
   },
   "file_extension": ".py",
   "mimetype": "text/x-python",
   "name": "python",
   "nbconvert_exporter": "python",
   "pygments_lexer": "ipython3",
   "version": "3.8.10"
  },
  "orig_nbformat": 4,
  "vscode": {
   "interpreter": {
    "hash": "c2a015db88ba82aa96b55ead86112bbf6450e4bb3c86f319b19adb7c0e98ab70"
   }
  }
 },
 "nbformat": 4,
 "nbformat_minor": 2
}
